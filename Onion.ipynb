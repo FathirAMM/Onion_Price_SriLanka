{
  "nbformat": 4,
  "nbformat_minor": 0,
  "metadata": {
    "colab": {
      "provenance": []
    },
    "kernelspec": {
      "name": "python3",
      "display_name": "Python 3"
    },
    "language_info": {
      "name": "python"
    }
  },
  "cells": [
    {
      "cell_type": "markdown",
      "source": [
        "[link text](https://colab.research.google.com/drive/1BypgxIC1qltpS5pdcFvWUvxxYhuJkLFW?usp=sharing)"
      ],
      "metadata": {
        "id": "75qptJFXDnxU"
      }
    },
    {
      "cell_type": "code",
      "execution_count": null,
      "metadata": {
        "colab": {
          "base_uri": "https://localhost:8080/",
          "height": 1000
        },
        "id": "HDpOrc806IJw",
        "outputId": "de46e1fe-1a89-4443-d7a6-469fac8ebfed"
      },
      "outputs": [
        {
          "output_type": "stream",
          "name": "stdout",
          "text": [
            "Collecting fitz\n",
            "  Downloading fitz-0.0.1.dev2-py2.py3-none-any.whl (20 kB)\n",
            "Collecting configobj (from fitz)\n",
            "  Downloading configobj-5.0.8-py2.py3-none-any.whl (36 kB)\n",
            "Collecting configparser (from fitz)\n",
            "  Downloading configparser-6.0.0-py3-none-any.whl (19 kB)\n",
            "Requirement already satisfied: httplib2 in /usr/local/lib/python3.10/dist-packages (from fitz) (0.22.0)\n",
            "Requirement already satisfied: nibabel in /usr/local/lib/python3.10/dist-packages (from fitz) (4.0.2)\n",
            "Collecting nipype (from fitz)\n",
            "  Downloading nipype-1.8.6-py3-none-any.whl (3.2 MB)\n",
            "\u001b[2K     \u001b[90m━━━━━━━━━━━━━━━━━━━━━━━━━━━━━━━━━━━━━━━━\u001b[0m \u001b[32m3.2/3.2 MB\u001b[0m \u001b[31m7.8 MB/s\u001b[0m eta \u001b[36m0:00:00\u001b[0m\n",
            "\u001b[?25hRequirement already satisfied: numpy in /usr/local/lib/python3.10/dist-packages (from fitz) (1.23.5)\n",
            "Requirement already satisfied: pandas in /usr/local/lib/python3.10/dist-packages (from fitz) (1.5.3)\n",
            "Collecting pyxnat (from fitz)\n",
            "  Downloading pyxnat-1.6-py3-none-any.whl (95 kB)\n",
            "\u001b[2K     \u001b[90m━━━━━━━━━━━━━━━━━━━━━━━━━━━━━━━━━━━━━━━━\u001b[0m \u001b[32m95.3/95.3 kB\u001b[0m \u001b[31m9.1 MB/s\u001b[0m eta \u001b[36m0:00:00\u001b[0m\n",
            "\u001b[?25hRequirement already satisfied: scipy in /usr/local/lib/python3.10/dist-packages (from fitz) (1.11.4)\n",
            "Requirement already satisfied: six in /usr/local/lib/python3.10/dist-packages (from configobj->fitz) (1.16.0)\n",
            "Requirement already satisfied: pyparsing!=3.0.0,!=3.0.1,!=3.0.2,!=3.0.3,<4,>=2.4.2 in /usr/local/lib/python3.10/dist-packages (from httplib2->fitz) (3.1.1)\n",
            "Requirement already satisfied: packaging>=17.0 in /usr/local/lib/python3.10/dist-packages (from nibabel->fitz) (23.2)\n",
            "Requirement already satisfied: setuptools in /usr/local/lib/python3.10/dist-packages (from nibabel->fitz) (67.7.2)\n",
            "Requirement already satisfied: click>=6.6.0 in /usr/local/lib/python3.10/dist-packages (from nipype->fitz) (8.1.7)\n",
            "Requirement already satisfied: networkx>=2.0 in /usr/local/lib/python3.10/dist-packages (from nipype->fitz) (3.2.1)\n",
            "Collecting prov>=1.5.2 (from nipype->fitz)\n",
            "  Downloading prov-2.0.0-py3-none-any.whl (421 kB)\n",
            "\u001b[2K     \u001b[90m━━━━━━━━━━━━━━━━━━━━━━━━━━━━━━━━━━━━━━━━\u001b[0m \u001b[32m421.5/421.5 kB\u001b[0m \u001b[31m14.2 MB/s\u001b[0m eta \u001b[36m0:00:00\u001b[0m\n",
            "\u001b[?25hRequirement already satisfied: pydot>=1.2.3 in /usr/local/lib/python3.10/dist-packages (from nipype->fitz) (1.4.2)\n",
            "Requirement already satisfied: python-dateutil>=2.2 in /usr/local/lib/python3.10/dist-packages (from nipype->fitz) (2.8.2)\n",
            "Collecting rdflib>=5.0.0 (from nipype->fitz)\n",
            "  Downloading rdflib-7.0.0-py3-none-any.whl (531 kB)\n",
            "\u001b[2K     \u001b[90m━━━━━━━━━━━━━━━━━━━━━━━━━━━━━━━━━━━━━━━━\u001b[0m \u001b[32m531.9/531.9 kB\u001b[0m \u001b[31m12.8 MB/s\u001b[0m eta \u001b[36m0:00:00\u001b[0m\n",
            "\u001b[?25hCollecting simplejson>=3.8.0 (from nipype->fitz)\n",
            "  Downloading simplejson-3.19.2-cp310-cp310-manylinux_2_5_x86_64.manylinux1_x86_64.manylinux_2_17_x86_64.manylinux2014_x86_64.whl (137 kB)\n",
            "\u001b[2K     \u001b[90m━━━━━━━━━━━━━━━━━━━━━━━━━━━━━━━━━━━━━━━━\u001b[0m \u001b[32m137.9/137.9 kB\u001b[0m \u001b[31m15.5 MB/s\u001b[0m eta \u001b[36m0:00:00\u001b[0m\n",
            "\u001b[?25hCollecting traits!=5.0,<6.4,>=4.6 (from nipype->fitz)\n",
            "  Downloading traits-6.3.2-cp310-cp310-manylinux_2_5_x86_64.manylinux1_x86_64.manylinux_2_12_x86_64.manylinux2010_x86_64.whl (5.1 MB)\n",
            "\u001b[2K     \u001b[90m━━━━━━━━━━━━━━━━━━━━━━━━━━━━━━━━━━━━━━━━\u001b[0m \u001b[32m5.1/5.1 MB\u001b[0m \u001b[31m22.4 MB/s\u001b[0m eta \u001b[36m0:00:00\u001b[0m\n",
            "\u001b[?25hRequirement already satisfied: filelock>=3.0.0 in /usr/local/lib/python3.10/dist-packages (from nipype->fitz) (3.13.1)\n",
            "Collecting etelemetry>=0.2.0 (from nipype->fitz)\n",
            "  Downloading etelemetry-0.3.1-py3-none-any.whl (6.4 kB)\n",
            "Collecting looseversion (from nipype->fitz)\n",
            "  Downloading looseversion-1.3.0-py2.py3-none-any.whl (8.2 kB)\n",
            "Requirement already satisfied: pytz>=2020.1 in /usr/local/lib/python3.10/dist-packages (from pandas->fitz) (2023.3.post1)\n",
            "Requirement already satisfied: future>=0.16 in /usr/local/lib/python3.10/dist-packages (from pyxnat->fitz) (0.18.3)\n",
            "Requirement already satisfied: lxml>=4.3 in /usr/local/lib/python3.10/dist-packages (from pyxnat->fitz) (4.9.3)\n",
            "Requirement already satisfied: pathlib>=1.0 in /usr/local/lib/python3.10/dist-packages (from pyxnat->fitz) (1.0.1)\n",
            "Requirement already satisfied: requests>=2.20 in /usr/local/lib/python3.10/dist-packages (from pyxnat->fitz) (2.31.0)\n",
            "Collecting ci-info>=0.2 (from etelemetry>=0.2.0->nipype->fitz)\n",
            "  Downloading ci_info-0.3.0-py3-none-any.whl (7.8 kB)\n",
            "Collecting isodate<0.7.0,>=0.6.0 (from rdflib>=5.0.0->nipype->fitz)\n",
            "  Downloading isodate-0.6.1-py2.py3-none-any.whl (41 kB)\n",
            "\u001b[2K     \u001b[90m━━━━━━━━━━━━━━━━━━━━━━━━━━━━━━━━━━━━━━━━\u001b[0m \u001b[32m41.7/41.7 kB\u001b[0m \u001b[31m4.0 MB/s\u001b[0m eta \u001b[36m0:00:00\u001b[0m\n",
            "\u001b[?25hRequirement already satisfied: charset-normalizer<4,>=2 in /usr/local/lib/python3.10/dist-packages (from requests>=2.20->pyxnat->fitz) (3.3.2)\n",
            "Requirement already satisfied: idna<4,>=2.5 in /usr/local/lib/python3.10/dist-packages (from requests>=2.20->pyxnat->fitz) (3.6)\n",
            "Requirement already satisfied: urllib3<3,>=1.21.1 in /usr/local/lib/python3.10/dist-packages (from requests>=2.20->pyxnat->fitz) (2.0.7)\n",
            "Requirement already satisfied: certifi>=2017.4.17 in /usr/local/lib/python3.10/dist-packages (from requests>=2.20->pyxnat->fitz) (2023.11.17)\n",
            "Installing collected packages: looseversion, traits, simplejson, isodate, configparser, configobj, ci-info, rdflib, pyxnat, etelemetry, prov, nipype, fitz\n",
            "Successfully installed ci-info-0.3.0 configobj-5.0.8 configparser-6.0.0 etelemetry-0.3.1 fitz-0.0.1.dev2 isodate-0.6.1 looseversion-1.3.0 nipype-1.8.6 prov-2.0.0 pyxnat-1.6 rdflib-7.0.0 simplejson-3.19.2 traits-6.3.2\n"
          ]
        },
        {
          "output_type": "display_data",
          "data": {
            "application/vnd.colab-display-data+json": {
              "pip_warning": {
                "packages": [
                  "configparser"
                ]
              }
            }
          },
          "metadata": {}
        }
      ],
      "source": [
        "pip install fitz"
      ]
    },
    {
      "cell_type": "code",
      "source": [
        "pip install PyMuPDF"
      ],
      "metadata": {
        "colab": {
          "base_uri": "https://localhost:8080/"
        },
        "id": "48aCqVZG6K1f",
        "outputId": "e7f9064b-ebf6-4853-8beb-dc75d4689940"
      },
      "execution_count": null,
      "outputs": [
        {
          "output_type": "stream",
          "name": "stdout",
          "text": [
            "Collecting PyMuPDF\n",
            "  Downloading PyMuPDF-1.23.8-cp310-none-manylinux2014_x86_64.whl (4.4 MB)\n",
            "\u001b[2K     \u001b[90m━━━━━━━━━━━━━━━━━━━━━━━━━━━━━━━━━━━━━━━━\u001b[0m \u001b[32m4.4/4.4 MB\u001b[0m \u001b[31m11.3 MB/s\u001b[0m eta \u001b[36m0:00:00\u001b[0m\n",
            "\u001b[?25hCollecting PyMuPDFb==1.23.7 (from PyMuPDF)\n",
            "  Downloading PyMuPDFb-1.23.7-py3-none-manylinux2014_x86_64.manylinux_2_17_x86_64.whl (30.6 MB)\n",
            "\u001b[2K     \u001b[90m━━━━━━━━━━━━━━━━━━━━━━━━━━━━━━━━━━━━━━━━\u001b[0m \u001b[32m30.6/30.6 MB\u001b[0m \u001b[31m40.8 MB/s\u001b[0m eta \u001b[36m0:00:00\u001b[0m\n",
            "\u001b[?25hInstalling collected packages: PyMuPDFb, PyMuPDF\n",
            "Successfully installed PyMuPDF-1.23.8 PyMuPDFb-1.23.7\n"
          ]
        }
      ]
    },
    {
      "cell_type": "code",
      "source": [
        "import pandas as pd\n",
        "import requests\n",
        "from bs4 import BeautifulSoup\n",
        "import re\n",
        "import fitz  # PyMuPDF\n",
        "\n",
        "# Read the CSV file\n",
        "df = pd.read_csv('Onion.csv')\n",
        "\n",
        "# Define the table pattern\n",
        "table_pattern = r\"(?:Red Onion \\(Local\\)|Red Onion \\(lmp\\)|Big Onion \\(Local\\)|Big Onion \\(Imp\\))\\s+Rs\\./kg\\s+(\\S+)\\s+(\\S+)\\s+(\\S+)\\s+(\\S+)\\s+(\\S+)\\s+(\\S+)\\s+(\\S+)\\s+(\\S+)\"\n",
        "\n",
        "# Function to extract text from the PDF\n",
        "def extract_text_from_pdf(pdf_url):\n",
        "    response = requests.get(pdf_url, stream=True)\n",
        "\n",
        "    # Check if the PDF is empty\n",
        "    if 'Content-Length' in response.headers and int(response.headers['Content-Length']) == 0:\n",
        "        print(f\"Empty document for {pdf_url}. Skipping...\")\n",
        "        return None\n",
        "\n",
        "    with open('temp.pdf', 'wb') as pdf_file:\n",
        "        pdf_file.write(response.content)\n",
        "\n",
        "    doc = fitz.open('temp.pdf')\n",
        "    text = \"\"\n",
        "    for page_num in range(doc.page_count):\n",
        "        page = doc[page_num]\n",
        "        text += page.get_text()\n",
        "\n",
        "    return text\n",
        "\n",
        "# Iterate through rows in the dataframe\n",
        "prices_data = {'Date': [], 'Onion Type': []}\n",
        "for j in range(1, 9):\n",
        "    prices_data[f'Price{j}'] = []\n",
        "\n",
        "for index, row in df.iterrows():\n",
        "    date = row['Date']\n",
        "    pdf_url = row['links-href']\n",
        "\n",
        "    # Extract text from the PDF\n",
        "    pdf_text = extract_text_from_pdf(pdf_url)\n",
        "\n",
        "    if pdf_text is not None:\n",
        "        # Search for the table with prices in the text\n",
        "        table_match = re.findall(table_pattern, pdf_text)\n",
        "\n",
        "        # Check if table matches are found\n",
        "        if table_match:\n",
        "            onion_types = [\"Red Onion (Local)\", \"Red Onion (lmp)\", \"Big Onion (Local)\", \"Big Onion (Imp)\"]\n",
        "\n",
        "            for i, onion_type in enumerate(onion_types):\n",
        "                prices_data['Date'].append(date)\n",
        "                prices_data['Onion Type'].append(onion_type)\n",
        "\n",
        "                for j in range(8):\n",
        "                    prices_data[f'Price{j + 1}'].append(table_match[i][j])\n",
        "        else:\n",
        "            print(f\"No table pattern found in the PDF for {date}.\")\n",
        "\n",
        "# Create a DataFrame from the collected data\n",
        "prices_df = pd.DataFrame(prices_data)\n",
        "\n",
        "# Save the results to a new CSV file\n",
        "prices_df.to_csv('prices_data.csv', index=False)\n",
        "\n",
        "# Remove temporary PDF file\n",
        "import os\n",
        "os.remove('temp.pdf')\n"
      ],
      "metadata": {
        "colab": {
          "base_uri": "https://localhost:8080/"
        },
        "id": "dfgQZ2LV6Tx3",
        "outputId": "dab4dd56-b47e-4546-b817-2c0b1f7bd71e"
      },
      "execution_count": null,
      "outputs": [
        {
          "output_type": "stream",
          "name": "stdout",
          "text": [
            "Empty document for https://www.cbsl.gov.lk/sites/default/files/cbslweb_documents/statistics/pricerpt/price_report_20220914.pdf. Skipping...\n",
            "No table pattern found in the PDF for 3/16/2022.\n"
          ]
        }
      ]
    },
    {
      "cell_type": "code",
      "source": [
        "import pandas as pd\n",
        "\n",
        "# Load the prices_data.csv file\n",
        "df = pd.read_csv('prices_data.csv')\n",
        "\n",
        "# Drop unnecessary columns (Price1, Price3, Price5, Price7)\n",
        "df = df.drop(columns=['Price1', 'Price3', 'Price5', 'Price7'])\n",
        "\n",
        "# Rename columns\n",
        "column_mapping = {\n",
        "    'Price2': 'Wholesale_Pettah',\n",
        "    'Price4': 'Wholesale_Dambulla',\n",
        "    'Price6': 'Retail_Pettah',\n",
        "    'Price8': 'Retail_Dambulla'\n",
        "}\n",
        "\n",
        "df = df.rename(columns=column_mapping)\n",
        "\n",
        "# Replace 'n.a.' with NaN\n",
        "df.replace('n.a.', pd.NA, inplace=True)\n",
        "\n",
        "# Convert columns to numeric (if not already) to handle NaN values\n",
        "numeric_columns = ['Wholesale_Pettah', 'Wholesale_Dambulla', 'Retail_Pettah', 'Retail_Dambulla']\n",
        "df[numeric_columns] = df[numeric_columns].apply(pd.to_numeric, errors='coerce')\n",
        "\n",
        "# Convert 'Date' column to datetime format\n",
        "df['Date'] = pd.to_datetime(df['Date'], format='%m/%d/%Y')\n",
        "\n",
        "# Sort DataFrame by 'Date' and 'Onion Type'\n",
        "df = df.sort_values(['Onion Type', 'Date'])\n",
        "\n",
        "# Forward fill missing values within each group of 'Onion Type'\n",
        "df = df.groupby('Onion Type').apply(lambda group: group.ffill())\n",
        "\n",
        "# Backward fill remaining missing values within each group of 'Onion Type'\n",
        "df = df.groupby('Onion Type').apply(lambda group: group.bfill())\n",
        "\n",
        "# Save the cleaned DataFrame to a new CSV file\n",
        "df.to_csv('prices_data_filled.csv', index=False)\n"
      ],
      "metadata": {
        "colab": {
          "base_uri": "https://localhost:8080/"
        },
        "id": "sa8Vi6kioLmk",
        "outputId": "34b7f971-3bc8-405c-add4-f25fcd96528c"
      },
      "execution_count": null,
      "outputs": [
        {
          "output_type": "stream",
          "name": "stderr",
          "text": [
            "<ipython-input-28-3cedf43c255a>:33: FutureWarning: Not prepending group keys to the result index of transform-like apply. In the future, the group keys will be included in the index, regardless of whether the applied function returns a like-indexed object.\n",
            "To preserve the previous behavior, use\n",
            "\n",
            "\t>>> .groupby(..., group_keys=False)\n",
            "\n",
            "To adopt the future behavior and silence this warning, use \n",
            "\n",
            "\t>>> .groupby(..., group_keys=True)\n",
            "  df = df.groupby('Onion Type').apply(lambda group: group.ffill())\n",
            "<ipython-input-28-3cedf43c255a>:36: FutureWarning: Not prepending group keys to the result index of transform-like apply. In the future, the group keys will be included in the index, regardless of whether the applied function returns a like-indexed object.\n",
            "To preserve the previous behavior, use\n",
            "\n",
            "\t>>> .groupby(..., group_keys=False)\n",
            "\n",
            "To adopt the future behavior and silence this warning, use \n",
            "\n",
            "\t>>> .groupby(..., group_keys=True)\n",
            "  df = df.groupby('Onion Type').apply(lambda group: group.bfill())\n"
          ]
        }
      ]
    },
    {
      "cell_type": "code",
      "source": [
        "df_cleaned = pd.read_csv('prices_data_filled.csv')\n",
        "df_cleaned.head()"
      ],
      "metadata": {
        "colab": {
          "base_uri": "https://localhost:8080/",
          "height": 206
        },
        "id": "MrEajudVTnRo",
        "outputId": "ddf4eef7-fe2a-4623-ec59-2f548e51a006"
      },
      "execution_count": null,
      "outputs": [
        {
          "output_type": "execute_result",
          "data": {
            "text/plain": [
              "         Date       Onion Type  Wholesale_Pettah  Wholesale_Dambulla  \\\n",
              "0  2021-01-01  Big Onion (Imp)              79.0                88.0   \n",
              "1  2021-01-04  Big Onion (Imp)              72.0                73.0   \n",
              "2  2021-01-05  Big Onion (Imp)              69.0                88.0   \n",
              "3  2021-01-06  Big Onion (Imp)              73.0                53.0   \n",
              "4  2021-01-07  Big Onion (Imp)              63.0                98.0   \n",
              "\n",
              "   Retail_Pettah  Retail_Dambulla  \n",
              "0          130.0             98.0  \n",
              "1          130.0             83.0  \n",
              "2          130.0             98.0  \n",
              "3          130.0             63.0  \n",
              "4          130.0            108.0  "
            ],
            "text/html": [
              "\n",
              "  <div id=\"df-06a38a6a-3d9f-4166-9081-3359ccb7db7f\" class=\"colab-df-container\">\n",
              "    <div>\n",
              "<style scoped>\n",
              "    .dataframe tbody tr th:only-of-type {\n",
              "        vertical-align: middle;\n",
              "    }\n",
              "\n",
              "    .dataframe tbody tr th {\n",
              "        vertical-align: top;\n",
              "    }\n",
              "\n",
              "    .dataframe thead th {\n",
              "        text-align: right;\n",
              "    }\n",
              "</style>\n",
              "<table border=\"1\" class=\"dataframe\">\n",
              "  <thead>\n",
              "    <tr style=\"text-align: right;\">\n",
              "      <th></th>\n",
              "      <th>Date</th>\n",
              "      <th>Onion Type</th>\n",
              "      <th>Wholesale_Pettah</th>\n",
              "      <th>Wholesale_Dambulla</th>\n",
              "      <th>Retail_Pettah</th>\n",
              "      <th>Retail_Dambulla</th>\n",
              "    </tr>\n",
              "  </thead>\n",
              "  <tbody>\n",
              "    <tr>\n",
              "      <th>0</th>\n",
              "      <td>2021-01-01</td>\n",
              "      <td>Big Onion (Imp)</td>\n",
              "      <td>79.0</td>\n",
              "      <td>88.0</td>\n",
              "      <td>130.0</td>\n",
              "      <td>98.0</td>\n",
              "    </tr>\n",
              "    <tr>\n",
              "      <th>1</th>\n",
              "      <td>2021-01-04</td>\n",
              "      <td>Big Onion (Imp)</td>\n",
              "      <td>72.0</td>\n",
              "      <td>73.0</td>\n",
              "      <td>130.0</td>\n",
              "      <td>83.0</td>\n",
              "    </tr>\n",
              "    <tr>\n",
              "      <th>2</th>\n",
              "      <td>2021-01-05</td>\n",
              "      <td>Big Onion (Imp)</td>\n",
              "      <td>69.0</td>\n",
              "      <td>88.0</td>\n",
              "      <td>130.0</td>\n",
              "      <td>98.0</td>\n",
              "    </tr>\n",
              "    <tr>\n",
              "      <th>3</th>\n",
              "      <td>2021-01-06</td>\n",
              "      <td>Big Onion (Imp)</td>\n",
              "      <td>73.0</td>\n",
              "      <td>53.0</td>\n",
              "      <td>130.0</td>\n",
              "      <td>63.0</td>\n",
              "    </tr>\n",
              "    <tr>\n",
              "      <th>4</th>\n",
              "      <td>2021-01-07</td>\n",
              "      <td>Big Onion (Imp)</td>\n",
              "      <td>63.0</td>\n",
              "      <td>98.0</td>\n",
              "      <td>130.0</td>\n",
              "      <td>108.0</td>\n",
              "    </tr>\n",
              "  </tbody>\n",
              "</table>\n",
              "</div>\n",
              "    <div class=\"colab-df-buttons\">\n",
              "\n",
              "  <div class=\"colab-df-container\">\n",
              "    <button class=\"colab-df-convert\" onclick=\"convertToInteractive('df-06a38a6a-3d9f-4166-9081-3359ccb7db7f')\"\n",
              "            title=\"Convert this dataframe to an interactive table.\"\n",
              "            style=\"display:none;\">\n",
              "\n",
              "  <svg xmlns=\"http://www.w3.org/2000/svg\" height=\"24px\" viewBox=\"0 -960 960 960\">\n",
              "    <path d=\"M120-120v-720h720v720H120Zm60-500h600v-160H180v160Zm220 220h160v-160H400v160Zm0 220h160v-160H400v160ZM180-400h160v-160H180v160Zm440 0h160v-160H620v160ZM180-180h160v-160H180v160Zm440 0h160v-160H620v160Z\"/>\n",
              "  </svg>\n",
              "    </button>\n",
              "\n",
              "  <style>\n",
              "    .colab-df-container {\n",
              "      display:flex;\n",
              "      gap: 12px;\n",
              "    }\n",
              "\n",
              "    .colab-df-convert {\n",
              "      background-color: #E8F0FE;\n",
              "      border: none;\n",
              "      border-radius: 50%;\n",
              "      cursor: pointer;\n",
              "      display: none;\n",
              "      fill: #1967D2;\n",
              "      height: 32px;\n",
              "      padding: 0 0 0 0;\n",
              "      width: 32px;\n",
              "    }\n",
              "\n",
              "    .colab-df-convert:hover {\n",
              "      background-color: #E2EBFA;\n",
              "      box-shadow: 0px 1px 2px rgba(60, 64, 67, 0.3), 0px 1px 3px 1px rgba(60, 64, 67, 0.15);\n",
              "      fill: #174EA6;\n",
              "    }\n",
              "\n",
              "    .colab-df-buttons div {\n",
              "      margin-bottom: 4px;\n",
              "    }\n",
              "\n",
              "    [theme=dark] .colab-df-convert {\n",
              "      background-color: #3B4455;\n",
              "      fill: #D2E3FC;\n",
              "    }\n",
              "\n",
              "    [theme=dark] .colab-df-convert:hover {\n",
              "      background-color: #434B5C;\n",
              "      box-shadow: 0px 1px 3px 1px rgba(0, 0, 0, 0.15);\n",
              "      filter: drop-shadow(0px 1px 2px rgba(0, 0, 0, 0.3));\n",
              "      fill: #FFFFFF;\n",
              "    }\n",
              "  </style>\n",
              "\n",
              "    <script>\n",
              "      const buttonEl =\n",
              "        document.querySelector('#df-06a38a6a-3d9f-4166-9081-3359ccb7db7f button.colab-df-convert');\n",
              "      buttonEl.style.display =\n",
              "        google.colab.kernel.accessAllowed ? 'block' : 'none';\n",
              "\n",
              "      async function convertToInteractive(key) {\n",
              "        const element = document.querySelector('#df-06a38a6a-3d9f-4166-9081-3359ccb7db7f');\n",
              "        const dataTable =\n",
              "          await google.colab.kernel.invokeFunction('convertToInteractive',\n",
              "                                                    [key], {});\n",
              "        if (!dataTable) return;\n",
              "\n",
              "        const docLinkHtml = 'Like what you see? Visit the ' +\n",
              "          '<a target=\"_blank\" href=https://colab.research.google.com/notebooks/data_table.ipynb>data table notebook</a>'\n",
              "          + ' to learn more about interactive tables.';\n",
              "        element.innerHTML = '';\n",
              "        dataTable['output_type'] = 'display_data';\n",
              "        await google.colab.output.renderOutput(dataTable, element);\n",
              "        const docLink = document.createElement('div');\n",
              "        docLink.innerHTML = docLinkHtml;\n",
              "        element.appendChild(docLink);\n",
              "      }\n",
              "    </script>\n",
              "  </div>\n",
              "\n",
              "\n",
              "<div id=\"df-63c881b3-c8d1-4bef-ab05-1cc329ed7f98\">\n",
              "  <button class=\"colab-df-quickchart\" onclick=\"quickchart('df-63c881b3-c8d1-4bef-ab05-1cc329ed7f98')\"\n",
              "            title=\"Suggest charts\"\n",
              "            style=\"display:none;\">\n",
              "\n",
              "<svg xmlns=\"http://www.w3.org/2000/svg\" height=\"24px\"viewBox=\"0 0 24 24\"\n",
              "     width=\"24px\">\n",
              "    <g>\n",
              "        <path d=\"M19 3H5c-1.1 0-2 .9-2 2v14c0 1.1.9 2 2 2h14c1.1 0 2-.9 2-2V5c0-1.1-.9-2-2-2zM9 17H7v-7h2v7zm4 0h-2V7h2v10zm4 0h-2v-4h2v4z\"/>\n",
              "    </g>\n",
              "</svg>\n",
              "  </button>\n",
              "\n",
              "<style>\n",
              "  .colab-df-quickchart {\n",
              "      --bg-color: #E8F0FE;\n",
              "      --fill-color: #1967D2;\n",
              "      --hover-bg-color: #E2EBFA;\n",
              "      --hover-fill-color: #174EA6;\n",
              "      --disabled-fill-color: #AAA;\n",
              "      --disabled-bg-color: #DDD;\n",
              "  }\n",
              "\n",
              "  [theme=dark] .colab-df-quickchart {\n",
              "      --bg-color: #3B4455;\n",
              "      --fill-color: #D2E3FC;\n",
              "      --hover-bg-color: #434B5C;\n",
              "      --hover-fill-color: #FFFFFF;\n",
              "      --disabled-bg-color: #3B4455;\n",
              "      --disabled-fill-color: #666;\n",
              "  }\n",
              "\n",
              "  .colab-df-quickchart {\n",
              "    background-color: var(--bg-color);\n",
              "    border: none;\n",
              "    border-radius: 50%;\n",
              "    cursor: pointer;\n",
              "    display: none;\n",
              "    fill: var(--fill-color);\n",
              "    height: 32px;\n",
              "    padding: 0;\n",
              "    width: 32px;\n",
              "  }\n",
              "\n",
              "  .colab-df-quickchart:hover {\n",
              "    background-color: var(--hover-bg-color);\n",
              "    box-shadow: 0 1px 2px rgba(60, 64, 67, 0.3), 0 1px 3px 1px rgba(60, 64, 67, 0.15);\n",
              "    fill: var(--button-hover-fill-color);\n",
              "  }\n",
              "\n",
              "  .colab-df-quickchart-complete:disabled,\n",
              "  .colab-df-quickchart-complete:disabled:hover {\n",
              "    background-color: var(--disabled-bg-color);\n",
              "    fill: var(--disabled-fill-color);\n",
              "    box-shadow: none;\n",
              "  }\n",
              "\n",
              "  .colab-df-spinner {\n",
              "    border: 2px solid var(--fill-color);\n",
              "    border-color: transparent;\n",
              "    border-bottom-color: var(--fill-color);\n",
              "    animation:\n",
              "      spin 1s steps(1) infinite;\n",
              "  }\n",
              "\n",
              "  @keyframes spin {\n",
              "    0% {\n",
              "      border-color: transparent;\n",
              "      border-bottom-color: var(--fill-color);\n",
              "      border-left-color: var(--fill-color);\n",
              "    }\n",
              "    20% {\n",
              "      border-color: transparent;\n",
              "      border-left-color: var(--fill-color);\n",
              "      border-top-color: var(--fill-color);\n",
              "    }\n",
              "    30% {\n",
              "      border-color: transparent;\n",
              "      border-left-color: var(--fill-color);\n",
              "      border-top-color: var(--fill-color);\n",
              "      border-right-color: var(--fill-color);\n",
              "    }\n",
              "    40% {\n",
              "      border-color: transparent;\n",
              "      border-right-color: var(--fill-color);\n",
              "      border-top-color: var(--fill-color);\n",
              "    }\n",
              "    60% {\n",
              "      border-color: transparent;\n",
              "      border-right-color: var(--fill-color);\n",
              "    }\n",
              "    80% {\n",
              "      border-color: transparent;\n",
              "      border-right-color: var(--fill-color);\n",
              "      border-bottom-color: var(--fill-color);\n",
              "    }\n",
              "    90% {\n",
              "      border-color: transparent;\n",
              "      border-bottom-color: var(--fill-color);\n",
              "    }\n",
              "  }\n",
              "</style>\n",
              "\n",
              "  <script>\n",
              "    async function quickchart(key) {\n",
              "      const quickchartButtonEl =\n",
              "        document.querySelector('#' + key + ' button');\n",
              "      quickchartButtonEl.disabled = true;  // To prevent multiple clicks.\n",
              "      quickchartButtonEl.classList.add('colab-df-spinner');\n",
              "      try {\n",
              "        const charts = await google.colab.kernel.invokeFunction(\n",
              "            'suggestCharts', [key], {});\n",
              "      } catch (error) {\n",
              "        console.error('Error during call to suggestCharts:', error);\n",
              "      }\n",
              "      quickchartButtonEl.classList.remove('colab-df-spinner');\n",
              "      quickchartButtonEl.classList.add('colab-df-quickchart-complete');\n",
              "    }\n",
              "    (() => {\n",
              "      let quickchartButtonEl =\n",
              "        document.querySelector('#df-63c881b3-c8d1-4bef-ab05-1cc329ed7f98 button');\n",
              "      quickchartButtonEl.style.display =\n",
              "        google.colab.kernel.accessAllowed ? 'block' : 'none';\n",
              "    })();\n",
              "  </script>\n",
              "</div>\n",
              "\n",
              "    </div>\n",
              "  </div>\n"
            ]
          },
          "metadata": {},
          "execution_count": 30
        }
      ]
    },
    {
      "cell_type": "code",
      "source": [
        "# Count NaN values\n",
        "nan_count = df_cleaned.isna().sum()\n",
        "\n",
        "# Print the count of NaN values\n",
        "print(\"NaN Values Count:\")\n",
        "print(nan_count)"
      ],
      "metadata": {
        "colab": {
          "base_uri": "https://localhost:8080/"
        },
        "id": "8Cr3dTwdjFzG",
        "outputId": "f28d36e0-4b62-41cc-c9bf-efd97ed14605"
      },
      "execution_count": null,
      "outputs": [
        {
          "output_type": "stream",
          "name": "stdout",
          "text": [
            "NaN Values Count:\n",
            "Date                  0\n",
            "Onion Type            0\n",
            "Wholesale_Pettah      0\n",
            "Wholesale_Dambulla    0\n",
            "Retail_Pettah         0\n",
            "Retail_Dambulla       0\n",
            "dtype: int64\n"
          ]
        }
      ]
    },
    {
      "cell_type": "code",
      "source": [],
      "metadata": {
        "id": "zfb2Grz3jTPd"
      },
      "execution_count": null,
      "outputs": []
    },
    {
      "cell_type": "code",
      "source": [],
      "metadata": {
        "id": "wVFWqFvCjTSK"
      },
      "execution_count": null,
      "outputs": []
    },
    {
      "cell_type": "code",
      "source": [
        "import pandas as pd\n",
        "\n",
        "# Read the CSV file\n",
        "df = pd.read_csv('prices_data_filled.csv')\n",
        "\n",
        "# Create separate data frames for each onion type\n",
        "red_onion_local_df = df[df['Onion Type'] == 'Red Onion (Local)']\n",
        "red_onion_imp_df = df[df['Onion Type'] == 'Red Onion (lmp)']\n",
        "big_onion_local_df = df[df['Onion Type'] == 'Big Onion (Local)']\n",
        "big_onion_imp_df = df[df['Onion Type'] == 'Big Onion (Imp)']\n",
        "\n",
        "# Print or do further operations with the data frames\n",
        "print(\"Red Onion (Local) Data Frame:\")\n",
        "print(red_onion_local_df)\n"
      ],
      "metadata": {
        "colab": {
          "base_uri": "https://localhost:8080/"
        },
        "id": "ndrAHlO3TnU2",
        "outputId": "0fc6c00d-14a2-478f-f94a-dc655e4abf15"
      },
      "execution_count": null,
      "outputs": [
        {
          "output_type": "stream",
          "name": "stdout",
          "text": [
            "Red Onion (Local) Data Frame:\n",
            "            Date         Onion Type  Wholesale_Pettah  Wholesale_Dambulla  \\\n",
            "1420  2021-01-01  Red Onion (Local)             600.0               475.0   \n",
            "1421  2021-01-04  Red Onion (Local)             600.0               450.0   \n",
            "1422  2021-01-05  Red Onion (Local)             600.0               470.0   \n",
            "1423  2021-01-06  Red Onion (Local)             600.0               380.0   \n",
            "1424  2021-01-07  Red Onion (Local)             600.0               300.0   \n",
            "...          ...                ...               ...                 ...   \n",
            "2125  2023-12-18  Red Onion (Local)             450.0               365.0   \n",
            "2126  2023-12-19  Red Onion (Local)             500.0               375.0   \n",
            "2127  2023-12-20  Red Onion (Local)             500.0               395.0   \n",
            "2128  2023-12-21  Red Onion (Local)             500.0               300.0   \n",
            "2129  2023-12-22  Red Onion (Local)             500.0               315.0   \n",
            "\n",
            "      Retail_Pettah  Retail_Dambulla  \n",
            "1420          350.0            485.0  \n",
            "1421          350.0            460.0  \n",
            "1422          350.0            480.0  \n",
            "1423          350.0            390.0  \n",
            "1424          350.0            310.0  \n",
            "...             ...              ...  \n",
            "2125          500.0            385.0  \n",
            "2126          550.0            395.0  \n",
            "2127          550.0            415.0  \n",
            "2128          550.0            320.0  \n",
            "2129          550.0            335.0  \n",
            "\n",
            "[710 rows x 6 columns]\n"
          ]
        }
      ]
    },
    {
      "cell_type": "code",
      "source": [
        "print(\"\\nRed Onion (Imp) Data Frame:\")\n",
        "print(red_onion_imp_df)\n",
        "\n"
      ],
      "metadata": {
        "colab": {
          "base_uri": "https://localhost:8080/"
        },
        "id": "MIUuDeTTTnXX",
        "outputId": "7068fecc-911d-4943-c4e0-4012ecb016af"
      },
      "execution_count": null,
      "outputs": [
        {
          "output_type": "stream",
          "name": "stdout",
          "text": [
            "\n",
            "Red Onion (Imp) Data Frame:\n",
            "            Date       Onion Type  Wholesale_Pettah  Wholesale_Dambulla  \\\n",
            "2130  2021-01-01  Red Onion (lmp)             600.0               398.0   \n",
            "2131  2021-01-04  Red Onion (lmp)             600.0               398.0   \n",
            "2132  2021-01-05  Red Onion (lmp)             525.0               398.0   \n",
            "2133  2021-01-06  Red Onion (lmp)             495.0               398.0   \n",
            "2134  2021-01-07  Red Onion (lmp)             395.0               398.0   \n",
            "...          ...              ...               ...                 ...   \n",
            "2835  2023-12-18  Red Onion (lmp)             410.0               375.0   \n",
            "2836  2023-12-19  Red Onion (lmp)             415.0               445.0   \n",
            "2837  2023-12-20  Red Onion (lmp)             407.0               435.0   \n",
            "2838  2023-12-21  Red Onion (lmp)             420.0               445.0   \n",
            "2839  2023-12-22  Red Onion (lmp)             410.0               410.0   \n",
            "\n",
            "      Retail_Pettah  Retail_Dambulla  \n",
            "2130          480.0            408.0  \n",
            "2131          480.0            408.0  \n",
            "2132          480.0            408.0  \n",
            "2133          480.0            408.0  \n",
            "2134          480.0            408.0  \n",
            "...             ...              ...  \n",
            "2835          400.0            395.0  \n",
            "2836          400.0            465.0  \n",
            "2837          400.0            455.0  \n",
            "2838          400.0            465.0  \n",
            "2839          400.0            430.0  \n",
            "\n",
            "[710 rows x 6 columns]\n"
          ]
        }
      ]
    },
    {
      "cell_type": "code",
      "source": [
        "print(\"\\nBig Onion (Local) Data Frame:\")\n",
        "print(big_onion_local_df)\n"
      ],
      "metadata": {
        "colab": {
          "base_uri": "https://localhost:8080/"
        },
        "id": "pD5O_zfRTnaf",
        "outputId": "43e2d378-dd65-4409-c357-b0506ed8a7bc"
      },
      "execution_count": null,
      "outputs": [
        {
          "output_type": "stream",
          "name": "stdout",
          "text": [
            "\n",
            "Big Onion (Local) Data Frame:\n",
            "            Date         Onion Type  Wholesale_Pettah  Wholesale_Dambulla  \\\n",
            "710   2021-01-01  Big Onion (Local)             145.0                98.0   \n",
            "711   2021-01-04  Big Onion (Local)             145.0                98.0   \n",
            "712   2021-01-05  Big Onion (Local)             145.0                98.0   \n",
            "713   2021-01-06  Big Onion (Local)             145.0                98.0   \n",
            "714   2021-01-07  Big Onion (Local)             145.0                98.0   \n",
            "...          ...                ...               ...                 ...   \n",
            "1415  2023-12-18  Big Onion (Local)             240.0               365.0   \n",
            "1416  2023-12-19  Big Onion (Local)             240.0               365.0   \n",
            "1417  2023-12-20  Big Onion (Local)             240.0               365.0   \n",
            "1418  2023-12-21  Big Onion (Local)             240.0               515.0   \n",
            "1419  2023-12-22  Big Onion (Local)             240.0               515.0   \n",
            "\n",
            "      Retail_Pettah  Retail_Dambulla  \n",
            "710           200.0            153.0  \n",
            "711           200.0            153.0  \n",
            "712           200.0            153.0  \n",
            "713           200.0            153.0  \n",
            "714           200.0            153.0  \n",
            "...             ...              ...  \n",
            "1415          300.0            385.0  \n",
            "1416          300.0            385.0  \n",
            "1417          300.0            385.0  \n",
            "1418          300.0            535.0  \n",
            "1419          300.0            535.0  \n",
            "\n",
            "[710 rows x 6 columns]\n"
          ]
        }
      ]
    },
    {
      "cell_type": "code",
      "source": [
        "\n",
        "print(\"\\nBig Onion (Imp) Data Frame:\")\n",
        "print(big_onion_imp_df)\n"
      ],
      "metadata": {
        "colab": {
          "base_uri": "https://localhost:8080/"
        },
        "id": "y0rYP1XP6K7U",
        "outputId": "15e80d7d-4030-454d-835f-39937a2e1970"
      },
      "execution_count": null,
      "outputs": [
        {
          "output_type": "stream",
          "name": "stdout",
          "text": [
            "\n",
            "Big Onion (Imp) Data Frame:\n",
            "           Date       Onion Type  Wholesale_Pettah  Wholesale_Dambulla  \\\n",
            "0    2021-01-01  Big Onion (Imp)              79.0                88.0   \n",
            "1    2021-01-04  Big Onion (Imp)              72.0                73.0   \n",
            "2    2021-01-05  Big Onion (Imp)              69.0                88.0   \n",
            "3    2021-01-06  Big Onion (Imp)              73.0                53.0   \n",
            "4    2021-01-07  Big Onion (Imp)              63.0                98.0   \n",
            "..          ...              ...               ...                 ...   \n",
            "705  2023-12-18  Big Onion (Imp)             428.0               415.0   \n",
            "706  2023-12-19  Big Onion (Imp)             483.0               390.0   \n",
            "707  2023-12-20  Big Onion (Imp)             492.0               425.0   \n",
            "708  2023-12-21  Big Onion (Imp)             475.0               435.0   \n",
            "709  2023-12-22  Big Onion (Imp)             418.0               425.0   \n",
            "\n",
            "     Retail_Pettah  Retail_Dambulla  \n",
            "0            130.0             98.0  \n",
            "1            130.0             83.0  \n",
            "2            130.0             98.0  \n",
            "3            130.0             63.0  \n",
            "4            130.0            108.0  \n",
            "..             ...              ...  \n",
            "705          460.0            435.0  \n",
            "706          525.0            410.0  \n",
            "707          525.0            445.0  \n",
            "708          525.0            455.0  \n",
            "709          450.0            445.0  \n",
            "\n",
            "[710 rows x 6 columns]\n"
          ]
        }
      ]
    },
    {
      "cell_type": "code",
      "source": [],
      "metadata": {
        "id": "sdOoUHTbg3LY"
      },
      "execution_count": null,
      "outputs": []
    },
    {
      "cell_type": "code",
      "source": [],
      "metadata": {
        "id": "dloi84uk6K9-"
      },
      "execution_count": null,
      "outputs": []
    },
    {
      "cell_type": "code",
      "source": [],
      "metadata": {
        "id": "_GOWXGIz6LA2"
      },
      "execution_count": null,
      "outputs": []
    },
    {
      "cell_type": "code",
      "source": [],
      "metadata": {
        "id": "jMGx5S6M6LDd"
      },
      "execution_count": null,
      "outputs": []
    }
  ]
}